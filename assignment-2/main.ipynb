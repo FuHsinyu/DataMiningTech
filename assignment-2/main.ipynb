{
  "nbformat": 4,
  "nbformat_minor": 0,
  "metadata": {
    "language_info": {
      "codemirror_mode": {
        "name": "ipython",
        "version": 3
      },
      "file_extension": ".py",
      "mimetype": "text/x-python",
      "name": "python",
      "nbconvert_exporter": "python",
      "pygments_lexer": "ipython3",
      "version": "3.7.4-final"
    },
    "orig_nbformat": 2,
    "kernelspec": {
      "name": "python3",
      "display_name": "Python 3"
    },
    "colab": {
      "name": "main.ipynb",
      "provenance": [],
      "toc_visible": true
    },
    "accelerator": "GPU"
  },
  "cells": [
    {
      "cell_type": "code",
      "metadata": {
        "id": "2Yr1Qiq5hyPk",
        "colab_type": "code",
        "outputId": "5b21b686-0bbb-4af7-8cf9-60cab3954f68",
        "colab": {
          "base_uri": "https://localhost:8080/",
          "height": 71
        }
      },
      "source": [
        "import os\n",
        "import pandas as pd\n",
        "import numpy as np\n",
        "import xgboost as XGB\n",
        "from xgboost.sklearn import XGBClassifier\n",
        "from xgboost import XGBRanker\n",
        "# from xgboostextension.scorer.metrics import ndcg\n",
        "from sklearn.model_selection import GridSearchCV, GroupKFold\n",
        "from xgboostextension.scorer import RankingScorer\n",
        "from xgboostextension.scorer.metrics import ndcg\n",
        "from google.colab import drive\n",
        "from pprint import pprint\n",
        "import gc"
      ],
      "execution_count": 0,
      "outputs": [
        {
          "output_type": "stream",
          "text": [
            "/usr/local/lib/python3.6/dist-packages/sklearn/utils/deprecation.py:144: FutureWarning: The sklearn.metrics.scorer module is  deprecated in version 0.22 and will be removed in version 0.24. The corresponding classes / functions should instead be imported from sklearn.metrics. Anything that cannot be imported from sklearn.metrics is now part of the private API.\n",
            "  warnings.warn(message, FutureWarning)\n"
          ],
          "name": "stderr"
        }
      ]
    },
    {
      "cell_type": "code",
      "metadata": {
        "id": "Xyge87DLmAVp",
        "colab_type": "code",
        "outputId": "0a56bf18-7153-4fe3-f268-d0c92415745b",
        "colab": {
          "base_uri": "https://localhost:8080/",
          "height": 173
        }
      },
      "source": [
        "!pip uninstall xgboost\n",
        "!pip install https://s3-us-west-2.amazonaws.com/xgboost-wheels/xgboost-1.0.2-py3-none-manylinux1_x86_64.whl"
      ],
      "execution_count": 0,
      "outputs": [
        {
          "output_type": "stream",
          "text": [
            "Uninstalling xgboost-1.0.2:\n",
            "  Would remove:\n",
            "    /usr/local/lib/python3.6/dist-packages/xgboost-1.0.2.dist-info/*\n",
            "    /usr/local/lib/python3.6/dist-packages/xgboost/*\n",
            "Proceed (y/n)? n\n",
            "Requirement already satisfied: xgboost==1.0.2 from https://s3-us-west-2.amazonaws.com/xgboost-wheels/xgboost-1.0.2-py3-none-manylinux1_x86_64.whl in /usr/local/lib/python3.6/dist-packages (1.0.2)\n",
            "Requirement already satisfied: scipy in /usr/local/lib/python3.6/dist-packages (from xgboost==1.0.2) (1.4.1)\n",
            "Requirement already satisfied: numpy in /usr/local/lib/python3.6/dist-packages (from xgboost==1.0.2) (1.18.4)\n"
          ],
          "name": "stdout"
        }
      ]
    },
    {
      "cell_type": "code",
      "metadata": {
        "id": "aMeCtU3SlzMi",
        "colab_type": "code",
        "outputId": "409faab9-818b-46c1-b2bf-9db129d55a24",
        "colab": {
          "base_uri": "https://localhost:8080/",
          "height": 289
        }
      },
      "source": [
        "!wget https://github.com/igorpejic/personalize_expedia_hotel_searches_2013/raw/5a9654f755399a83f4b40850e82c34648aab4b7a/run.py\n"
      ],
      "execution_count": 0,
      "outputs": [
        {
          "output_type": "stream",
          "text": [
            "--2020-05-20 16:58:59--  https://github.com/igorpejic/personalize_expedia_hotel_searches_2013/raw/5a9654f755399a83f4b40850e82c34648aab4b7a/run.py\n",
            "Resolving github.com (github.com)... 192.30.255.112\n",
            "Connecting to github.com (github.com)|192.30.255.112|:443... connected.\n",
            "HTTP request sent, awaiting response... 302 Found\n",
            "Location: https://raw.githubusercontent.com/igorpejic/personalize_expedia_hotel_searches_2013/5a9654f755399a83f4b40850e82c34648aab4b7a/run.py [following]\n",
            "--2020-05-20 16:58:59--  https://raw.githubusercontent.com/igorpejic/personalize_expedia_hotel_searches_2013/5a9654f755399a83f4b40850e82c34648aab4b7a/run.py\n",
            "Resolving raw.githubusercontent.com (raw.githubusercontent.com)... 151.101.0.133, 151.101.64.133, 151.101.128.133, ...\n",
            "Connecting to raw.githubusercontent.com (raw.githubusercontent.com)|151.101.0.133|:443... connected.\n",
            "HTTP request sent, awaiting response... 200 OK\n",
            "Length: 14884 (15K) [text/plain]\n",
            "Saving to: ‘run.py’\n",
            "\n",
            "run.py              100%[===================>]  14.54K  --.-KB/s    in 0.007s  \n",
            "\n",
            "2020-05-20 16:59:00 (2.10 MB/s) - ‘run.py’ saved [14884/14884]\n",
            "\n"
          ],
          "name": "stdout"
        }
      ]
    },
    {
      "cell_type": "code",
      "metadata": {
        "id": "H-M9qQLPlv-x",
        "colab_type": "code",
        "outputId": "d8e2d82a-615c-4335-bad5-166847d5f2b7",
        "colab": {
          "base_uri": "https://localhost:8080/",
          "height": 34
        }
      },
      "source": [
        "\n",
        "drive.mount('/content/gdrive')\n",
        "# basedir = \"H:\\\\dataset\\\\2nd-assignment-dmt-2020\"\n",
        "basedir = '/content/gdrive/My Drive/dm_dataset'\n",
        "fileName = os.path.abspath(os.path.join(basedir, 'training_set_VU_DM.csv'))\n",
        "fileName_test = os.path.abspath(os.path.join(basedir, 'test_set_VU_DM.csv'))\n"
      ],
      "execution_count": 0,
      "outputs": [
        {
          "output_type": "stream",
          "text": [
            "Drive already mounted at /content/gdrive; to attempt to forcibly remount, call drive.mount(\"/content/gdrive\", force_remount=True).\n"
          ],
          "name": "stdout"
        }
      ]
    },
    {
      "cell_type": "code",
      "metadata": {
        "id": "IghaFDOFRk4G",
        "colab_type": "code",
        "colab": {}
      },
      "source": [
        "\n",
        "expedia = pd.read_csv(fileName,low_memory=False)\n",
        "test_df = pd.read_csv(fileName_test,low_memory=False)\n",
        "print(expedia.shape)"
      ],
      "execution_count": 0,
      "outputs": []
    },
    {
      "cell_type": "code",
      "metadata": {
        "id": "BVHVQOvZhyPn",
        "colab_type": "code",
        "outputId": "da62d8e4-40bd-4438-abe8-e9d74b330904",
        "colab": {
          "base_uri": "https://localhost:8080/",
          "height": 935
        }
      },
      "source": [
        "columns_attrs = list(expedia.columns.values)\n",
        "pprint(columns_attrs)"
      ],
      "execution_count": 0,
      "outputs": [
        {
          "output_type": "stream",
          "text": [
            "['srch_id',\n",
            " 'date_time',\n",
            " 'site_id',\n",
            " 'visitor_location_country_id',\n",
            " 'visitor_hist_starrating',\n",
            " 'visitor_hist_adr_usd',\n",
            " 'prop_country_id',\n",
            " 'prop_id',\n",
            " 'prop_starrating',\n",
            " 'prop_review_score',\n",
            " 'prop_brand_bool',\n",
            " 'prop_location_score1',\n",
            " 'prop_location_score2',\n",
            " 'prop_log_historical_price',\n",
            " 'position',\n",
            " 'price_usd',\n",
            " 'promotion_flag',\n",
            " 'srch_destination_id',\n",
            " 'srch_length_of_stay',\n",
            " 'srch_booking_window',\n",
            " 'srch_adults_count',\n",
            " 'srch_children_count',\n",
            " 'srch_room_count',\n",
            " 'srch_saturday_night_bool',\n",
            " 'srch_query_affinity_score',\n",
            " 'orig_destination_distance',\n",
            " 'random_bool',\n",
            " 'comp1_rate',\n",
            " 'comp1_inv',\n",
            " 'comp1_rate_percent_diff',\n",
            " 'comp2_rate',\n",
            " 'comp2_inv',\n",
            " 'comp2_rate_percent_diff',\n",
            " 'comp3_rate',\n",
            " 'comp3_inv',\n",
            " 'comp3_rate_percent_diff',\n",
            " 'comp4_rate',\n",
            " 'comp4_inv',\n",
            " 'comp4_rate_percent_diff',\n",
            " 'comp5_rate',\n",
            " 'comp5_inv',\n",
            " 'comp5_rate_percent_diff',\n",
            " 'comp6_rate',\n",
            " 'comp6_inv',\n",
            " 'comp6_rate_percent_diff',\n",
            " 'comp7_rate',\n",
            " 'comp7_inv',\n",
            " 'comp7_rate_percent_diff',\n",
            " 'comp8_rate',\n",
            " 'comp8_inv',\n",
            " 'comp8_rate_percent_diff',\n",
            " 'click_bool',\n",
            " 'gross_bookings_usd',\n",
            " 'booking_bool']\n"
          ],
          "name": "stdout"
        }
      ]
    },
    {
      "cell_type": "code",
      "metadata": {
        "id": "Dd2-bU3YhyPq",
        "colab_type": "code",
        "outputId": "a97f8652-e5e0-436e-cf31-bf477d6621e6",
        "colab": {
          "base_uri": "https://localhost:8080/",
          "height": 391
        }
      },
      "source": [
        "\n",
        "cols = ['srch_length_of_stay', 'orig_destination_distance', 'prop_location_score1', 'srch_room_count',\n",
        "        'prop_starrating', 'gross_bookings_usd', 'promotion_flag', 'prop_review_score', 'prop_location_score1', 'prop_location_score2']\n",
        "\n",
        "labels_attrs = ['booking_bool', 'click_bool']\n",
        "columns_attrs = list(expedia.columns.values)\n",
        "usable_prefix = ['visitor', 'prop', 'promo', 'position', 'gross']\n",
        "is_valid = lambda x: any([pref in x for pref in usable_prefix])\n",
        "columns_attrs = [attr for attr in (columns_attrs) if is_valid(attr)]\n",
        "# for a in labels_attrs:\n",
        "    # columns_attrs.remove(a)\n",
        "label_subset = expedia[labels_attrs]\n",
        "exp_subset = expedia[cols]\n",
        "corr = exp_subset.corr(label_subset)\n",
        "sns.heatmap(corr, xticklabels=corr.columns.values, yticklabels=corr.rows.values)"
      ],
      "execution_count": 0,
      "outputs": [
        {
          "output_type": "stream",
          "text": [
            "/usr/local/lib/python3.6/dist-packages/pandas/core/ops/array_ops.py:253: FutureWarning: elementwise comparison failed; returning scalar instead, but in the future will perform elementwise comparison\n",
            "  res_values = method(rvalues)\n"
          ],
          "name": "stderr"
        },
        {
          "output_type": "error",
          "ename": "ValueError",
          "evalue": "ignored",
          "traceback": [
            "\u001b[0;31m---------------------------------------------------------------------------\u001b[0m",
            "\u001b[0;31mValueError\u001b[0m                                Traceback (most recent call last)",
            "\u001b[0;32m<ipython-input-8-b3bcb3f94013>\u001b[0m in \u001b[0;36m<module>\u001b[0;34m()\u001b[0m\n\u001b[1;32m     12\u001b[0m \u001b[0mlabel_subset\u001b[0m \u001b[0;34m=\u001b[0m \u001b[0mexpedia\u001b[0m\u001b[0;34m[\u001b[0m\u001b[0mlabels_attrs\u001b[0m\u001b[0;34m]\u001b[0m\u001b[0;34m\u001b[0m\u001b[0;34m\u001b[0m\u001b[0m\n\u001b[1;32m     13\u001b[0m \u001b[0mexp_subset\u001b[0m \u001b[0;34m=\u001b[0m \u001b[0mexpedia\u001b[0m\u001b[0;34m[\u001b[0m\u001b[0mcols\u001b[0m\u001b[0;34m]\u001b[0m\u001b[0;34m\u001b[0m\u001b[0;34m\u001b[0m\u001b[0m\n\u001b[0;32m---> 14\u001b[0;31m \u001b[0mcorr\u001b[0m \u001b[0;34m=\u001b[0m \u001b[0mexp_subset\u001b[0m\u001b[0;34m.\u001b[0m\u001b[0mcorr\u001b[0m\u001b[0;34m(\u001b[0m\u001b[0mlabel_subset\u001b[0m\u001b[0;34m)\u001b[0m\u001b[0;34m\u001b[0m\u001b[0;34m\u001b[0m\u001b[0m\n\u001b[0m\u001b[1;32m     15\u001b[0m \u001b[0msns\u001b[0m\u001b[0;34m.\u001b[0m\u001b[0mheatmap\u001b[0m\u001b[0;34m(\u001b[0m\u001b[0mcorr\u001b[0m\u001b[0;34m,\u001b[0m \u001b[0mxticklabels\u001b[0m\u001b[0;34m=\u001b[0m\u001b[0mcorr\u001b[0m\u001b[0;34m.\u001b[0m\u001b[0mcolumns\u001b[0m\u001b[0;34m.\u001b[0m\u001b[0mvalues\u001b[0m\u001b[0;34m,\u001b[0m \u001b[0myticklabels\u001b[0m\u001b[0;34m=\u001b[0m\u001b[0mcorr\u001b[0m\u001b[0;34m.\u001b[0m\u001b[0mrows\u001b[0m\u001b[0;34m.\u001b[0m\u001b[0mvalues\u001b[0m\u001b[0;34m)\u001b[0m\u001b[0;34m\u001b[0m\u001b[0;34m\u001b[0m\u001b[0m\n",
            "\u001b[0;32m/usr/local/lib/python3.6/dist-packages/pandas/core/frame.py\u001b[0m in \u001b[0;36mcorr\u001b[0;34m(self, method, min_periods)\u001b[0m\n\u001b[1;32m   7463\u001b[0m         \u001b[0mmat\u001b[0m \u001b[0;34m=\u001b[0m \u001b[0mnumeric_df\u001b[0m\u001b[0;34m.\u001b[0m\u001b[0mvalues\u001b[0m\u001b[0;34m\u001b[0m\u001b[0;34m\u001b[0m\u001b[0m\n\u001b[1;32m   7464\u001b[0m \u001b[0;34m\u001b[0m\u001b[0m\n\u001b[0;32m-> 7465\u001b[0;31m         \u001b[0;32mif\u001b[0m \u001b[0mmethod\u001b[0m \u001b[0;34m==\u001b[0m \u001b[0;34m\"pearson\"\u001b[0m\u001b[0;34m:\u001b[0m\u001b[0;34m\u001b[0m\u001b[0;34m\u001b[0m\u001b[0m\n\u001b[0m\u001b[1;32m   7466\u001b[0m             \u001b[0mcorrel\u001b[0m \u001b[0;34m=\u001b[0m \u001b[0mlibalgos\u001b[0m\u001b[0;34m.\u001b[0m\u001b[0mnancorr\u001b[0m\u001b[0;34m(\u001b[0m\u001b[0mensure_float64\u001b[0m\u001b[0;34m(\u001b[0m\u001b[0mmat\u001b[0m\u001b[0;34m)\u001b[0m\u001b[0;34m,\u001b[0m \u001b[0mminp\u001b[0m\u001b[0;34m=\u001b[0m\u001b[0mmin_periods\u001b[0m\u001b[0;34m)\u001b[0m\u001b[0;34m\u001b[0m\u001b[0;34m\u001b[0m\u001b[0m\n\u001b[1;32m   7467\u001b[0m         \u001b[0;32melif\u001b[0m \u001b[0mmethod\u001b[0m \u001b[0;34m==\u001b[0m \u001b[0;34m\"spearman\"\u001b[0m\u001b[0;34m:\u001b[0m\u001b[0;34m\u001b[0m\u001b[0;34m\u001b[0m\u001b[0m\n",
            "\u001b[0;32m/usr/local/lib/python3.6/dist-packages/pandas/core/generic.py\u001b[0m in \u001b[0;36m__nonzero__\u001b[0;34m(self)\u001b[0m\n\u001b[1;32m   1477\u001b[0m     \u001b[0;32mdef\u001b[0m \u001b[0m__nonzero__\u001b[0m\u001b[0;34m(\u001b[0m\u001b[0mself\u001b[0m\u001b[0;34m)\u001b[0m\u001b[0;34m:\u001b[0m\u001b[0;34m\u001b[0m\u001b[0;34m\u001b[0m\u001b[0m\n\u001b[1;32m   1478\u001b[0m         raise ValueError(\n\u001b[0;32m-> 1479\u001b[0;31m             \u001b[0;34mf\"The truth value of a {type(self).__name__} is ambiguous. \"\u001b[0m\u001b[0;34m\u001b[0m\u001b[0;34m\u001b[0m\u001b[0m\n\u001b[0m\u001b[1;32m   1480\u001b[0m             \u001b[0;34m\"Use a.empty, a.bool(), a.item(), a.any() or a.all().\"\u001b[0m\u001b[0;34m\u001b[0m\u001b[0;34m\u001b[0m\u001b[0m\n\u001b[1;32m   1481\u001b[0m         )\n",
            "\u001b[0;31mValueError\u001b[0m: The truth value of a DataFrame is ambiguous. Use a.empty, a.bool(), a.item(), a.any() or a.all()."
          ]
        }
      ]
    },
    {
      "cell_type": "code",
      "metadata": {
        "id": "Y_c83yBZhyPt",
        "colab_type": "code",
        "colab": {}
      },
      "source": [
        "missing_data = []\n",
        "for col in expedia.columns:\n",
        "    #print(expedia[col].isnull().sum())\n",
        "    missing_data.append([col, expedia[col].isnull().sum()])"
      ],
      "execution_count": 0,
      "outputs": []
    },
    {
      "cell_type": "code",
      "metadata": {
        "id": "pAX4-CcwI1wR",
        "colab_type": "code",
        "outputId": "f62b5b15-a46c-44c4-f8b5-ab9aac4244cf",
        "colab": {
          "base_uri": "https://localhost:8080/",
          "height": 122
        }
      },
      "source": [
        "#where the first column is the group ind, other columns are features\n",
        "from run import load_data, preprocess_training_data\n",
        "# load train data\n",
        "train_data = load_data(fileName)\n",
        "X, y = preprocess_training_data(train_data)"
      ],
      "execution_count": 0,
      "outputs": [
        {
          "output_type": "stream",
          "text": [
            "Started loading data from file /content/gdrive/My Drive/dm_dataset/training_set_VU_DM.csv\n",
            "Finished loading data....\n",
            "Preprocessing training data....\n",
            "Dropping columns ['comp1_rate', 'comp1_inv', 'comp1_rate_percent_diff', 'comp3_rate_percent_diff', 'comp4_rate', 'comp4_inv', 'comp4_rate_percent_diff', 'comp6_rate', 'comp6_inv', 'comp6_rate_percent_diff', 'comp7_rate', 'comp7_inv', 'comp7_rate_percent_diff', 'gross_bookings_usd'] because they miss more than 0.9 of data.\n",
            "Dropped columns ['comp1_rate', 'comp1_inv', 'comp1_rate_percent_diff', 'comp3_rate_percent_diff', 'comp4_rate', 'comp4_inv', 'comp4_rate_percent_diff', 'comp6_rate', 'comp6_inv', 'comp6_rate_percent_diff', 'comp7_rate', 'comp7_inv', 'comp7_rate_percent_diff', 'gross_bookings_usd']\n"
          ],
          "name": "stdout"
        }
      ]
    },
    {
      "cell_type": "code",
      "metadata": {
        "id": "HQZVJXNsMcjY",
        "colab_type": "code",
        "colab": {}
      },
      "source": [
        "# model\n",
        "\n",
        "ranker = XGBRanker(objective='rank:pairwise', n_estimators=40, max_depth=3, learning_rate=0.1, subsample=0.5,\n",
        "                   early_stopping_rounds=10, seed=5)\n",
        "groups = X[\"srch_id\"].value_counts(sort=False).sort_index()"
      ],
      "execution_count": 0,
      "outputs": []
    },
    {
      "cell_type": "code",
      "metadata": {
        "id": "m8rZV00Wh-5n",
        "colab_type": "code",
        "colab": {}
      },
      "source": [
        "yy = train_data['click_bool']+4*train_data['booking_bool']"
      ],
      "execution_count": 0,
      "outputs": []
    },
    {
      "cell_type": "code",
      "metadata": {
        "id": "dxBDy3t7nYrL",
        "colab_type": "code",
        "outputId": "5dbbe9a2-7f25-4b3e-a44d-eb0543b0bf64",
        "colab": {
          "base_uri": "https://localhost:8080/",
          "height": 163
        }
      },
      "source": [
        "X"
      ],
      "execution_count": 0,
      "outputs": [
        {
          "output_type": "error",
          "ename": "NameError",
          "evalue": "ignored",
          "traceback": [
            "\u001b[0;31m---------------------------------------------------------------------------\u001b[0m",
            "\u001b[0;31mNameError\u001b[0m                                 Traceback (most recent call last)",
            "\u001b[0;32m<ipython-input-4-b5fec669aca1>\u001b[0m in \u001b[0;36m<module>\u001b[0;34m()\u001b[0m\n\u001b[0;32m----> 1\u001b[0;31m \u001b[0mX\u001b[0m\u001b[0;34m\u001b[0m\u001b[0;34m\u001b[0m\u001b[0m\n\u001b[0m",
            "\u001b[0;31mNameError\u001b[0m: name 'X' is not defined"
          ]
        }
      ]
    },
    {
      "cell_type": "code",
      "metadata": {
        "id": "VCWkWq0JJsIs",
        "colab_type": "code",
        "colab": {}
      },
      "source": [
        "grid_search = GridSearchCV(\n",
        "    ranker,\n",
        "    {\n",
        "        'n_estimators': [5,40],\n",
        "        'max_depth': [3,5,10]\n",
        "    },\n",
        "    cv=GroupKFold(5),\n",
        "    scoring=RankingScorer(ndcg(5)),\n",
        "    verbose=100,\n",
        "    n_jobs=4\n",
        ")\n",
        "grid_search.fit(X, yy, groups=groups)\n",
        "print(\"Cross validation results:\")\n",
        "print(grid_search.cv_results_)"
      ],
      "execution_count": 0,
      "outputs": []
    },
    {
      "cell_type": "code",
      "metadata": {
        "id": "6z_fNXIjMeAg",
        "colab_type": "code",
        "colab": {}
      },
      "source": [
        "# model\n",
        "ranker = XGBRanker(objective='rank:ndcg', n_estimators=40, max_depth=3, learning_rate=0.1, subsample=0.5,\n",
        "                   early_stopping_rounds=10, seed=5)\n"
      ],
      "execution_count": 0,
      "outputs": []
    },
    {
      "cell_type": "code",
      "metadata": {
        "id": "Fd2UYKOTMftG",
        "colab_type": "code",
        "outputId": "bbaace57-f719-4fec-d521-af1c5337c92b",
        "colab": {
          "base_uri": "https://localhost:8080/",
          "height": 54
        }
      },
      "source": [
        "gc.collect()\n",
        "grid_search = GridSearchCV(\n",
        "    ranker,\n",
        "    {\n",
        "        'n_estimators': [40],\n",
        "        'max_depth': [3]\n",
        "    },\n",
        "    cv=GroupKFold(5),\n",
        "    scoring=RankingScorer(ndcg(5)),\n",
        "    verbose=100,\n",
        "    n_jobs=4\n",
        ")\n",
        "ranker.fit(X, yy, group=groups)\n",
        "print(\"Cross validation results:\")\n",
        "# print(grid_search.cv_results_)"
      ],
      "execution_count": 0,
      "outputs": [
        {
          "output_type": "stream",
          "text": [
            "[17:12:15] WARNING: /workspace/src/gbm/gbtree.cc:138: Tree method is automatically selected to be 'approx' for faster speed. To use old behavior (exact greedy algorithm on single machine), set tree_method to 'exact'.\n"
          ],
          "name": "stdout"
        }
      ]
    },
    {
      "cell_type": "code",
      "metadata": {
        "id": "wMPsiwjcAZUI",
        "colab_type": "code",
        "colab": {}
      },
      "source": [
        "!nvidia-smi"
      ],
      "execution_count": 0,
      "outputs": []
    },
    {
      "cell_type": "code",
      "metadata": {
        "id": "aDLtiGNYEoO3",
        "colab_type": "code",
        "colab": {}
      },
      "source": [
        ""
      ],
      "execution_count": 0,
      "outputs": []
    }
  ]
}